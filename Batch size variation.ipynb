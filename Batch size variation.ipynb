{
 "cells": [
  {
   "cell_type": "code",
   "execution_count": 1,
   "id": "25f1d438",
   "metadata": {},
   "outputs": [
    {
     "data": {
      "text/html": [
       "<style>.container { width:75% !important; }</style>"
      ],
      "text/plain": [
       "<IPython.core.display.HTML object>"
      ]
     },
     "metadata": {},
     "output_type": "display_data"
    }
   ],
   "source": [
    "from IPython.display import display, HTML\n",
    "display(HTML(\"<style>.container { width:75% !important; }</style>\"))"
   ]
  },
  {
   "cell_type": "code",
   "execution_count": 2,
   "id": "f1ff291f",
   "metadata": {},
   "outputs": [
    {
     "name": "stderr",
     "output_type": "stream",
     "text": [
      "2023-01-11 18:04:26.209566: I tensorflow/core/platform/cpu_feature_guard.cc:193] This TensorFlow binary is optimized with oneAPI Deep Neural Network Library (oneDNN) to use the following CPU instructions in performance-critical operations:  AVX2 AVX512F AVX512_VNNI FMA\n",
      "To enable them in other operations, rebuild TensorFlow with the appropriate compiler flags.\n",
      "2023-01-11 18:04:26.297532: I tensorflow/core/util/util.cc:169] oneDNN custom operations are on. You may see slightly different numerical results due to floating-point round-off errors from different computation orders. To turn them off, set the environment variable `TF_ENABLE_ONEDNN_OPTS=0`.\n",
      "2023-01-11 18:04:26.318998: E tensorflow/stream_executor/cuda/cuda_blas.cc:2981] Unable to register cuBLAS factory: Attempting to register factory for plugin cuBLAS when one has already been registered\n",
      "2023-01-11 18:04:26.782071: W tensorflow/stream_executor/platform/default/dso_loader.cc:64] Could not load dynamic library 'libnvinfer.so.7'; dlerror: libnvinfer.so.7: cannot open shared object file: No such file or directory\n",
      "2023-01-11 18:04:26.782120: W tensorflow/stream_executor/platform/default/dso_loader.cc:64] Could not load dynamic library 'libnvinfer_plugin.so.7'; dlerror: libnvinfer_plugin.so.7: cannot open shared object file: No such file or directory\n",
      "2023-01-11 18:04:26.782124: W tensorflow/compiler/tf2tensorrt/utils/py_utils.cc:38] TF-TRT Warning: Cannot dlopen some TensorRT libraries. If you would like to use Nvidia GPU with TensorRT, please make sure the missing libraries mentioned above are installed properly.\n"
     ]
    }
   ],
   "source": [
    "# set the matplotlib backend so figures can be saved in the background\n",
    "from tqdm.notebook import tqdm\n",
    "import matplotlib\n",
    "from sklearn.preprocessing import LabelBinarizer\n",
    "from sklearn.metrics import classification_report\n",
    "from keras.layers.normalization.batch_normalization import BatchNormalization\n",
    "from keras.layers.convolutional.conv2d import Conv2D\n",
    "from keras.layers.convolutional import AveragePooling2D\n",
    "from keras.layers.convolutional import MaxPooling2D\n",
    "from keras.layers.core import Activation\n",
    "from keras.layers.core import Dropout\n",
    "from keras.layers.core import Dense\n",
    "from keras.layers import Flatten\n",
    "from tensorflow.keras.preprocessing.image import ImageDataGenerator\n",
    "from tensorflow.keras.optimizers import SGD\n",
    "from tensorflow.keras.datasets import fashion_mnist\n",
    "from keras.layers import Flatten\n",
    "from keras.layers import Input\n",
    "from keras.models import Model\n",
    "from keras.layers import concatenate\n",
    "import matplotlib.pyplot as plt\n",
    "import numpy as np\n",
    "import argparse\n",
    "import cv2\n",
    "import sys\n",
    "from tensorflow.keras.callbacks import LambdaCallback\n",
    "from tensorflow.keras import backend as K\n",
    "import matplotlib.pyplot as plt\n",
    "import numpy as np\n",
    "import tempfile\n",
    "import tensorflow\n",
    "from tensorflow import keras\n",
    "import time"
   ]
  },
  {
   "cell_type": "code",
   "execution_count": 3,
   "id": "c03c1fbf",
   "metadata": {},
   "outputs": [],
   "source": [
    "def conv_module(input,No_of_filters,filtersizeX,filtersizeY,stride,chanDim,padding=\"same\"):\n",
    "    input = Conv2D(No_of_filters,(filtersizeX,filtersizeY),strides=stride,padding=padding)(input)\n",
    "    input = BatchNormalization(axis=chanDim)(input)\n",
    "    input = Activation(\"relu\")(input)\n",
    "    return input\n",
    "\n",
    "def inception_module(input,numK1x1,numK3x3,numk5x5,numPoolProj,chanDim):\n",
    "                                 #Step 1\n",
    "    conv_1x1 = conv_module(input, numK1x1, 1, 1,(1, 1), chanDim) \n",
    "                                 #Step 2\n",
    "    conv_3x3 = conv_module(input, numK3x3, 3, 3,(1, 1), chanDim)\n",
    "    conv_5x5 = conv_module(input, numk5x5, 5, 5,(1, 1), chanDim)\n",
    "                                 #Step 3\n",
    "    pool_proj = MaxPooling2D((3, 3), strides=(1, 1), padding='same')(input)\n",
    "    pool_proj = Conv2D(numPoolProj, (1, 1), padding='same', activation='relu')(pool_proj)\n",
    "                                 #Step 4\n",
    "    input = concatenate([conv_1x1, conv_3x3, conv_5x5, pool_proj], axis=chanDim)\n",
    "    return input\n",
    "\n",
    "def downsample_module(input,No_of_filters,chanDim):\n",
    "    conv_3x3=conv_module(input,No_of_filters,3,3,(2,2),chanDim,padding=\"valid\")\n",
    "    pool = MaxPooling2D((3,3),strides=(2,2))(input)\n",
    "    input = concatenate([conv_3x3,pool],axis=chanDim)\n",
    "    return input"
   ]
  },
  {
   "cell_type": "code",
   "execution_count": 4,
   "id": "0aeed458",
   "metadata": {},
   "outputs": [],
   "source": [
    "def MiniGoogleNet(width,height,depth,classes):\n",
    "    inputShape=(height,width,depth)\n",
    "    chanDim=-1\n",
    "\n",
    "    # (Step 1) Define the model input\n",
    "    inputs = Input(shape=inputShape)\n",
    "\n",
    "    # First CONV module\n",
    "    x = conv_module(inputs, 96, 3, 3, (1, 1),chanDim)\n",
    "\n",
    "    # (Step 2) Two Inception modules followed by a downsample module\n",
    "    x = inception_module(x, 32, 32,32,32,chanDim)\n",
    "    x = inception_module(x, 32, 48, 48,32,chanDim)\n",
    "    x = downsample_module(x, 80, chanDim)\n",
    "\n",
    "    # (Step 3) Five Inception modules followed by a downsample module\n",
    "    x = inception_module(x, 112, 48, 32, 48,chanDim)\n",
    "    x = inception_module(x, 96, 64, 32,32,chanDim)\n",
    "    x = inception_module(x, 80, 80, 32,32,chanDim)\n",
    "    x = inception_module(x, 48, 96, 32,32,chanDim)\n",
    "    x = inception_module(x, 112, 48, 32, 48,chanDim)\n",
    "    x = downsample_module(x, 96, chanDim)\n",
    "\n",
    "    # (Step 4) Two Inception modules followed\n",
    "    x = inception_module(x, 176, 160,96,96, chanDim)\n",
    "    x = inception_module(x, 176, 160, 96,96,chanDim)\n",
    "\n",
    "    # Global POOL and dropout\n",
    "    x = AveragePooling2D((7, 7))(x)\n",
    "    x = Dropout(0.5)(x)\n",
    "\n",
    "    # (Step 5) Softmax classifier\n",
    "    x = Flatten()(x)\n",
    "    x = Dense(classes)(x)\n",
    "    x = Activation(\"softmax\")(x)\n",
    "\n",
    "    # Create the model\n",
    "    model = Model(inputs, x, name=\"googlenet\")\n",
    "    return model"
   ]
  },
  {
   "cell_type": "code",
   "execution_count": 5,
   "id": "9904ac02",
   "metadata": {},
   "outputs": [
    {
     "name": "stdout",
     "output_type": "stream",
     "text": [
      "[INFO] loading Fashion MNIST data...\n"
     ]
    }
   ],
   "source": [
    "# load the training and testing data\n",
    "print(\"[INFO] loading Fashion MNIST data...\")\n",
    "((trainX, trainY), (testX, testY)) = fashion_mnist.load_data()\n",
    "# Fashion MNIST images are 28x28 but the network we will be training\n",
    "# is expecting 32x32 images\n",
    "trainX = np.array([cv2.resize(x, (32, 32)) for x in trainX])\n",
    "testX = np.array([cv2.resize(x, (32, 32)) for x in testX])\n",
    "# scale the pixel intensities to the range [0, 1]\n",
    "trainX = trainX.astype(\"float\") / 255.0\n",
    "testX = testX.astype(\"float\") / 255.0\n",
    "# reshape the data matrices to include a channel dimension (required\n",
    "# for training)\n",
    "trainX = trainX.reshape((trainX.shape[0], 32, 32, 1))\n",
    "testX = testX.reshape((testX.shape[0], 32, 32, 1))\n",
    "# convert the labels from integers to vectors\n",
    "lb = LabelBinarizer()\n",
    "trainY = lb.fit_transform(trainY)\n",
    "testY = lb.transform(testY)\n",
    "# construct the image generator for data augmentation\n",
    "aug = ImageDataGenerator(width_shift_range=0.1,\n",
    "\theight_shift_range=0.1, horizontal_flip=True,\n",
    "\tfill_mode=\"nearest\")\n"
   ]
  },
  {
   "cell_type": "markdown",
   "id": "5273b8af",
   "metadata": {},
   "source": [
    "#### 1. Fix batch size to 64 and start with 10 candidate learning rates between 10^−9 and 10 and train your model for 5 epochs. Plot the training loss as a function of the learning rate. You should see a curve like Figure 3 in the reference below. From that figure identify the values of lrmin and lrmax."
   ]
  },
  {
   "cell_type": "markdown",
   "id": "9962da66",
   "metadata": {},
   "source": [
    "#### 2. Use the cyclical learning rate policy (with exponential decay) and train your network using batch size 64 and lrmin and lrmax values obtained in part 1. Plot train/validation loss and accuracy curve (similar to Figure 4 in reference). "
   ]
  },
  {
   "cell_type": "code",
   "execution_count": 6,
   "id": "e37735b0",
   "metadata": {},
   "outputs": [],
   "source": [
    "MIN_LR = 1e-5\n",
    "MAX_LR = 1e-2\n",
    "BATCH_SIZE = 32\n",
    "STEP_SIZE = 8\n",
    "CLR_METHOD = \"exp_range\"\n",
    "NUM_EPOCHS = 16"
   ]
  },
  {
   "cell_type": "code",
   "execution_count": 7,
   "id": "97c8842f",
   "metadata": {},
   "outputs": [],
   "source": [
    "train_dataset = aug.flow(trainX, trainY, batch_size=32)"
   ]
  },
  {
   "cell_type": "code",
   "execution_count": 8,
   "id": "f10d792d",
   "metadata": {},
   "outputs": [],
   "source": [
    "# 1, 1, 1, 2, 4, 10, 20, 31, 75, 129\n",
    "\n",
    "# If we wanna vary it over 1 epoch\n",
    "# batches = [201, 69, 32, 16, 8, 4, 2, 1, 1, 1] \n",
    "\n",
    "# If we wanna vary it over 2 epochs\n",
    "batches = [1024, 275, 96, 32, 16, 4, 2, 2, 1, 1]\n",
    "\n",
    "# If we wanna vary it over 8 epochs\n",
    "batches = [4074, 2049, 423, 202, 60, 16, 8, 4, 2, 1]"
   ]
  },
  {
   "cell_type": "code",
   "execution_count": 9,
   "id": "6f5c85a6",
   "metadata": {},
   "outputs": [
    {
     "name": "stdout",
     "output_type": "stream",
     "text": [
      "[INFO] compiling model, to reset weights for varying batch sizes\n"
     ]
    },
    {
     "name": "stderr",
     "output_type": "stream",
     "text": [
      "2023-01-11 18:04:28.504221: I tensorflow/stream_executor/cuda/cuda_gpu_executor.cc:980] successful NUMA node read from SysFS had negative value (-1), but there must be at least one NUMA node, so returning NUMA node zero\n",
      "2023-01-11 18:04:28.526721: I tensorflow/stream_executor/cuda/cuda_gpu_executor.cc:980] successful NUMA node read from SysFS had negative value (-1), but there must be at least one NUMA node, so returning NUMA node zero\n",
      "2023-01-11 18:04:28.526884: I tensorflow/stream_executor/cuda/cuda_gpu_executor.cc:980] successful NUMA node read from SysFS had negative value (-1), but there must be at least one NUMA node, so returning NUMA node zero\n",
      "2023-01-11 18:04:28.527264: I tensorflow/core/platform/cpu_feature_guard.cc:193] This TensorFlow binary is optimized with oneAPI Deep Neural Network Library (oneDNN) to use the following CPU instructions in performance-critical operations:  AVX2 AVX512F AVX512_VNNI FMA\n",
      "To enable them in other operations, rebuild TensorFlow with the appropriate compiler flags.\n",
      "2023-01-11 18:04:28.527595: I tensorflow/stream_executor/cuda/cuda_gpu_executor.cc:980] successful NUMA node read from SysFS had negative value (-1), but there must be at least one NUMA node, so returning NUMA node zero\n",
      "2023-01-11 18:04:28.527705: I tensorflow/stream_executor/cuda/cuda_gpu_executor.cc:980] successful NUMA node read from SysFS had negative value (-1), but there must be at least one NUMA node, so returning NUMA node zero\n",
      "2023-01-11 18:04:28.527780: I tensorflow/stream_executor/cuda/cuda_gpu_executor.cc:980] successful NUMA node read from SysFS had negative value (-1), but there must be at least one NUMA node, so returning NUMA node zero\n",
      "2023-01-11 18:04:28.874321: I tensorflow/stream_executor/cuda/cuda_gpu_executor.cc:980] successful NUMA node read from SysFS had negative value (-1), but there must be at least one NUMA node, so returning NUMA node zero\n",
      "2023-01-11 18:04:28.874472: I tensorflow/stream_executor/cuda/cuda_gpu_executor.cc:980] successful NUMA node read from SysFS had negative value (-1), but there must be at least one NUMA node, so returning NUMA node zero\n",
      "2023-01-11 18:04:28.874562: I tensorflow/stream_executor/cuda/cuda_gpu_executor.cc:980] successful NUMA node read from SysFS had negative value (-1), but there must be at least one NUMA node, so returning NUMA node zero\n",
      "2023-01-11 18:04:28.874645: I tensorflow/core/common_runtime/gpu/gpu_device.cc:1616] Created device /job:localhost/replica:0/task:0/device:GPU:0 with 4117 MB memory:  -> device: 0, name: NVIDIA GeForce RTX 3060 Laptop GPU, pci bus id: 0000:01:00.0, compute capability: 8.6\n"
     ]
    }
   ],
   "source": [
    "print(\"[INFO] compiling model, to reset weights for varying batch sizes\")\n",
    "model = MiniGoogleNet(width=32, height=32, depth=1, classes=10)\n",
    "opt = SGD(learning_rate=MAX_LR, momentum=0.9)\n",
    "loss_fn = keras.losses.CategoricalCrossentropy(from_logits=False)"
   ]
  },
  {
   "cell_type": "code",
   "execution_count": 10,
   "id": "ab62f9b8",
   "metadata": {},
   "outputs": [],
   "source": [
    "history_object = {\n",
    "    \"loss\":[],\n",
    "    \"accuracy\":[],\n",
    "    \"val_loss\":[],\n",
    "    \"val_accuracy\":[],\n",
    "}"
   ]
  },
  {
   "cell_type": "code",
   "execution_count": 11,
   "id": "de72a32b",
   "metadata": {},
   "outputs": [],
   "source": [
    "train_acc_metric = keras.metrics.CategoricalAccuracy()\n",
    "val_acc_metric = keras.metrics.CategoricalAccuracy()"
   ]
  },
  {
   "cell_type": "code",
   "execution_count": 12,
   "id": "b4feeb0a",
   "metadata": {},
   "outputs": [],
   "source": [
    "batchSizeVariation = []\n",
    "noiseRatio = []"
   ]
  },
  {
   "cell_type": "code",
   "execution_count": 13,
   "id": "e666c55a",
   "metadata": {},
   "outputs": [],
   "source": [
    "switchEvery = 8\n",
    "period = switchEvery * 2"
   ]
  },
  {
   "cell_type": "code",
   "execution_count": 14,
   "id": "9d9a0d55",
   "metadata": {},
   "outputs": [
    {
     "data": {
      "text/plain": [
       "[PhysicalDevice(name='/physical_device:GPU:0', device_type='GPU')]"
      ]
     },
     "execution_count": 14,
     "metadata": {},
     "output_type": "execute_result"
    }
   ],
   "source": [
    "physical_devices = tensorflow.config.list_physical_devices('GPU')\n",
    "physical_devices"
   ]
  },
  {
   "cell_type": "code",
   "execution_count": 15,
   "id": "d8646c51",
   "metadata": {},
   "outputs": [
    {
     "data": {
      "text/plain": [
       "1875"
      ]
     },
     "execution_count": 15,
     "metadata": {},
     "output_type": "execute_result"
    }
   ],
   "source": [
    "len(train_dataset)"
   ]
  },
  {
   "cell_type": "code",
   "execution_count": 16,
   "id": "557f302c",
   "metadata": {},
   "outputs": [
    {
     "name": "stdout",
     "output_type": "stream",
     "text": [
      "\n",
      "Epoch 1/16\n"
     ]
    },
    {
     "name": "stderr",
     "output_type": "stream",
     "text": [
      "2023-01-11 18:04:30.092652: I tensorflow/stream_executor/cuda/cuda_dnn.cc:384] Loaded cuDNN version 8400\n",
      "2023-01-11 18:04:30.958805: I tensorflow/core/platform/default/subprocess.cc:304] Start cannot spawn child process: No such file or directory\n",
      "2023-01-11 18:04:30.959274: I tensorflow/core/platform/default/subprocess.cc:304] Start cannot spawn child process: No such file or directory\n",
      "2023-01-11 18:04:30.959293: W tensorflow/stream_executor/gpu/asm_compiler.cc:80] Couldn't get ptxas version string: INTERNAL: Couldn't invoke ptxas --version\n",
      "2023-01-11 18:04:30.959678: I tensorflow/core/platform/default/subprocess.cc:304] Start cannot spawn child process: No such file or directory\n",
      "2023-01-11 18:04:30.959719: W tensorflow/stream_executor/gpu/redzone_allocator.cc:314] INTERNAL: Failed to launch ptxas\n",
      "Relying on driver to perform ptx compilation. \n",
      "Modify $PATH to customize ptxas location.\n",
      "This message will be only logged once.\n",
      "2023-01-11 18:04:31.035073: I tensorflow/stream_executor/cuda/cuda_blas.cc:1614] TensorFloat-32 will be used for the matrix multiplication. This will only be logged once.\n"
     ]
    },
    {
     "name": "stdout",
     "output_type": "stream",
     "text": [
      "313/313 [==============================] - 5s 14ms/step\n",
      "loss: 2.4480 - accuracy: 0.1903 - val_loss: 2.3519 - val_accuracy: 0.2719 - time: 95.1392\n",
      "\n",
      "Epoch 2/16\n",
      "313/313 [==============================] - 4s 14ms/step\n",
      "loss: 1.0662 - accuracy: 0.6118 - val_loss: 0.7447 - val_accuracy: 0.7158 - time: 103.0280\n",
      "\n",
      "Epoch 3/16\n",
      "313/313 [==============================] - 4s 14ms/step\n",
      "loss: 0.6795 - accuracy: 0.7464 - val_loss: 0.7450 - val_accuracy: 0.7454 - time: 115.1277\n",
      "\n",
      "Epoch 4/16\n",
      "313/313 [==============================] - 4s 14ms/step\n",
      "loss: 0.5264 - accuracy: 0.8051 - val_loss: 0.4218 - val_accuracy: 0.8521 - time: 135.8997\n",
      "\n",
      "Epoch 5/16\n",
      "313/313 [==============================] - 4s 14ms/step\n",
      "loss: 0.4101 - accuracy: 0.8500 - val_loss: 0.3986 - val_accuracy: 0.8595 - time: 159.8256\n",
      "\n",
      "Epoch 6/16\n",
      "313/313 [==============================] - 4s 14ms/step\n",
      "loss: 0.3572 - accuracy: 0.8698 - val_loss: 0.4164 - val_accuracy: 0.8488 - time: 162.5524\n",
      "\n",
      "Epoch 7/16\n",
      "313/313 [==============================] - 4s 14ms/step\n",
      "loss: 0.3141 - accuracy: 0.8867 - val_loss: 0.2877 - val_accuracy: 0.8931 - time: 206.4728\n",
      "\n",
      "Epoch 8/16\n",
      "313/313 [==============================] - 4s 14ms/step\n",
      "loss: 0.2764 - accuracy: 0.8991 - val_loss: 0.3140 - val_accuracy: 0.8892 - time: 206.8190\n",
      "\n",
      "Epoch 9/16\n",
      "313/313 [==============================] - 4s 14ms/step\n",
      "loss: 0.2564 - accuracy: 0.9065 - val_loss: 0.2518 - val_accuracy: 0.9146 - time: 206.6671\n",
      "\n",
      "Epoch 10/16\n",
      "313/313 [==============================] - 4s 14ms/step\n",
      "loss: 0.2371 - accuracy: 0.9143 - val_loss: 0.2346 - val_accuracy: 0.9157 - time: 207.2643\n",
      "\n",
      "Epoch 11/16\n",
      "313/313 [==============================] - 4s 14ms/step\n",
      "loss: 0.2256 - accuracy: 0.9192 - val_loss: 0.3227 - val_accuracy: 0.8968 - time: 169.2183\n",
      "\n",
      "Epoch 12/16\n",
      "313/313 [==============================] - 4s 14ms/step\n",
      "loss: 0.2179 - accuracy: 0.9211 - val_loss: 0.2165 - val_accuracy: 0.9239 - time: 159.0243\n",
      "\n",
      "Epoch 13/16\n",
      "313/313 [==============================] - 4s 14ms/step\n",
      "loss: 0.2124 - accuracy: 0.9222 - val_loss: 0.2046 - val_accuracy: 0.9275 - time: 138.5866\n",
      "\n",
      "Epoch 14/16\n",
      "313/313 [==============================] - 4s 14ms/step\n",
      "loss: 0.2090 - accuracy: 0.9247 - val_loss: 0.2301 - val_accuracy: 0.9159 - time: 114.1914\n",
      "\n",
      "Epoch 15/16\n",
      "313/313 [==============================] - 4s 14ms/step\n",
      "loss: 0.1989 - accuracy: 0.9277 - val_loss: 0.2060 - val_accuracy: 0.9256 - time: 104.5627\n",
      "\n",
      "Epoch 16/16\n",
      "313/313 [==============================] - 4s 14ms/step\n",
      "loss: 0.1949 - accuracy: 0.9286 - val_loss: 0.2028 - val_accuracy: 0.9266 - time: 107.0121\n"
     ]
    }
   ],
   "source": [
    "previousBatchCount = 0\n",
    "batch_count = 0\n",
    "\n",
    "for epoch in range(NUM_EPOCHS):\n",
    "    startTime = time.time()\n",
    "    print(f\"\\nEpoch {epoch+1}/{NUM_EPOCHS}\")\n",
    "    epoch_loss = keras.metrics.Mean()\n",
    "    epoch_acc = []\n",
    "    loss_value = 0\n",
    "    batch_size_index = 0\n",
    "    \n",
    "    extended_logits = []\n",
    "    extended_labels = []\n",
    "    prev_step = 0\n",
    "    \n",
    "    \n",
    "    if epoch % period == switchEvery:\n",
    "        init_val = 1\n",
    "        indexStep = 1\n",
    "        batch_count = 0\n",
    "        batches_index = 0\n",
    "    elif epoch % period == 0:\n",
    "        init_val = 2**9\n",
    "        indexStep = -1\n",
    "        batch_count = 0\n",
    "        batches_index = 9\n",
    "    \n",
    "    # Iterate over the batches of the dataset.\n",
    "    for step, (x_batch_train, y_batch_train) in enumerate(train_dataset):\n",
    "        batchSizeVariation.append(32*init_val)\n",
    "        noiseRatio.append(60000*MAX_LR/(32*init_val))\n",
    "        \n",
    "        # Open a GradientTape to record the operations run\n",
    "        # during the forward pass, which enables auto-differentiation.\n",
    "        with tensorflow.GradientTape() as tape:\n",
    "            # Run the forward pass of the layer.\n",
    "            # The operations that the layer applies\n",
    "            # to its inputs are going to be recorded\n",
    "            # on the GradientTape.\n",
    "            logits = model(x_batch_train, training=True)  # Logits for this minibatch\n",
    "            extended_logits.extend(logits)\n",
    "            extended_labels.extend(y_batch_train)\n",
    "            \n",
    "            # Compute the loss value for this minibatch.\n",
    "            batch_loss = loss_fn(y_batch_train, logits)\n",
    "            \n",
    "            epoch_loss.update_state(batch_loss) \n",
    "            loss_value += batch_loss\n",
    "            \n",
    "        batchesSinceLast = (epoch)*1875 + (step+1) - previousBatchCount\n",
    "\n",
    "        # init_val controls how frequently we update the gradient\n",
    "        # if init_val is 1, the effective batch size is 32*1 because the\n",
    "        # train_dataset is being loaded with a batch size of 32\n",
    "        if batchesSinceLast % init_val == 0:\n",
    "#             pass\n",
    "            # Use the gradient tape to automatically retrieve\n",
    "            # the gradients of the trainable variables with respect to the loss.\n",
    "            grads = tape.gradient(loss_value, model.trainable_weights)\n",
    "            # Run one step of gradient descent by updating\n",
    "            # the value of the variables to minimize the loss.\n",
    "            opt.apply_gradients(zip(grads, model.trainable_weights))\n",
    "\n",
    "            train_acc_metric.update_state(extended_labels, extended_logits)\n",
    "\n",
    "            extended_labels = []\n",
    "            extended_logits = []\n",
    "\n",
    "            loss_value = 0\n",
    "\n",
    "            # batches controls how many batches we see for\n",
    "            # different batch sizes\n",
    "            batch_count += 1\n",
    "            if batch_count - batches[batches_index] == 0:\n",
    "#                 print(batches_index)\n",
    "                previousBatchCount = (epoch)*1875 + (step+1)\n",
    "                batches_index += indexStep\n",
    "                if indexStep == 1:\n",
    "                    init_val *= 2\n",
    "                    batch_count = 0\n",
    "                else:\n",
    "                    init_val *= 0.5\n",
    "                    batch_count = 0\n",
    "            \n",
    "        if step+1 == 1875:\n",
    "            break\n",
    "        \n",
    "        \n",
    "    val_logits = model.predict(testX)\n",
    "    val_loss = loss_fn(testY, val_logits)\n",
    "    val_acc_metric.update_state(testY, val_logits)\n",
    "\n",
    "    history_object['loss'].append(epoch_loss.result())\n",
    "    history_object['val_loss'].append(val_loss)\n",
    "    history_object['accuracy'].append(train_acc_metric.result())\n",
    "    history_object['val_accuracy'].append(val_acc_metric.result())\n",
    "    \n",
    "    print(f\"loss: {epoch_loss.result():.4f} - accuracy: {train_acc_metric.result():.4f} - val_loss: {val_loss:.4f} - val_accuracy: {val_acc_metric.result():.4f} - time: {(time.time() - startTime):.4f}\")\n",
    "    train_acc_metric.reset_states()\n",
    "    val_acc_metric.reset_states()\n"
   ]
  },
  {
   "cell_type": "code",
   "execution_count": 17,
   "id": "1da99ddf",
   "metadata": {},
   "outputs": [],
   "source": [
    "CLASSES = [\"top\", \"trouser\", \"pullover\", \"dress\", \"coat\",\n",
    "\t\"sandal\", \"shirt\", \"sneaker\", \"bag\", \"ankle boot\"]"
   ]
  },
  {
   "cell_type": "code",
   "execution_count": 18,
   "id": "5fe04d43",
   "metadata": {},
   "outputs": [
    {
     "name": "stdout",
     "output_type": "stream",
     "text": [
      "[INFO] evaluating network...\n",
      "313/313 [==============================] - 4s 14ms/step\n",
      "              precision    recall  f1-score   support\n",
      "\n",
      "         top       0.89      0.86      0.88      1000\n",
      "     trouser       0.99      0.99      0.99      1000\n",
      "    pullover       0.92      0.87      0.89      1000\n",
      "       dress       0.90      0.96      0.93      1000\n",
      "        coat       0.89      0.89      0.89      1000\n",
      "      sandal       0.96      0.99      0.98      1000\n",
      "       shirt       0.78      0.81      0.80      1000\n",
      "     sneaker       0.95      0.96      0.96      1000\n",
      "         bag       0.99      0.98      0.99      1000\n",
      "  ankle boot       0.99      0.95      0.97      1000\n",
      "\n",
      "    accuracy                           0.93     10000\n",
      "   macro avg       0.93      0.93      0.93     10000\n",
      "weighted avg       0.93      0.93      0.93     10000\n",
      "\n"
     ]
    }
   ],
   "source": [
    "print(\"[INFO] evaluating network...\")\n",
    "predictions = model.predict(x=testX, batch_size=32)\n",
    "print(classification_report(testY.argmax(axis=1),\n",
    "    predictions.argmax(axis=1), target_names=CLASSES))"
   ]
  },
  {
   "cell_type": "code",
   "execution_count": 19,
   "id": "fdd0700f",
   "metadata": {},
   "outputs": [
    {
     "data": {
      "image/png": "[encoded data removed]",
      "text/plain": [
       "<Figure size 1440x576 with 1 Axes>"
      ]
     },
     "metadata": {
      "needs_background": "light"
     },
     "output_type": "display_data"
    },
    {
     "data": {
      "image/png": "[encoded data removed]",
      "text/plain": [
       "<Figure size 1440x576 with 1 Axes>"
      ]
     },
     "metadata": {
      "needs_background": "light"
     },
     "output_type": "display_data"
    },
    {
     "data": {
      "image/png": "[encoded data removed]",
      "text/plain": [
       "<Figure size 1440x576 with 1 Axes>"
      ]
     },
     "metadata": {
      "needs_background": "light"
     },
     "output_type": "display_data"
    }
   ],
   "source": [
    "prefix = \"BatchSizeVariationModel_\"\n",
    "\n",
    "# construct a plot that plots and saves the training history\n",
    "N = np.arange(0, NUM_EPOCHS)\n",
    "plt.style.use(\"ggplot\")\n",
    "plt.figure(figsize=(20,8))\n",
    "plt.plot(N, history_object[\"loss\"], label=\"train_loss\")\n",
    "plt.plot(N, history_object[\"val_loss\"], label=\"val_loss\")\n",
    "plt.plot(N, history_object[\"accuracy\"], label=\"train_acc\")\n",
    "plt.plot(N, history_object[\"val_accuracy\"], label=\"val_acc\")\n",
    "plt.title(\"Training Loss and Accuracy\")\n",
    "plt.xlabel(\"Epoch #\")\n",
    "plt.ylabel(\"Loss/Accuracy\")\n",
    "plt.legend(loc=\"lower left\")\n",
    "plt.savefig(prefix+\"AccuracyLoss.jpg\", dpi=440)\n",
    "plt.show()\n",
    "# plot the learning rate history\n",
    "N = np.arange(0, len(batchSizeVariation))\n",
    "plt.figure(figsize=(20,8))\n",
    "plt.plot(N, batchSizeVariation)\n",
    "plt.title(\"Cyclical Batch Size\")\n",
    "plt.xlabel(\"Training Iterations\")\n",
    "plt.ylabel(\"Learning Rate\")\n",
    "plt.savefig(prefix+\"SizeVariations.jpg\", dpi=440)\n",
    "plt.show()\n",
    "# plot the learning rate history\n",
    "N = np.arange(0, len(noiseRatio))\n",
    "plt.figure(figsize=(20,8))\n",
    "plt.plot(N, noiseRatio)\n",
    "plt.title(\"SGD Noise Ratio\")\n",
    "plt.xlabel(\"Training Iterations\")\n",
    "plt.ylabel(\"Noise Ratio\")\n",
    "plt.savefig(prefix+\"NoiseRatio.jpg\", dpi=440)\n",
    "plt.show()"
   ]
  },
  {
   "cell_type": "code",
   "execution_count": null,
   "id": "cde7e232",
   "metadata": {},
   "outputs": [],
   "source": []
  }
 ],
 "metadata": {
  "kernelspec": {
   "display_name": "Python 3 (ipykernel)",
   "language": "python",
   "name": "python3"
  },
  "language_info": {
   "codemirror_mode": {
    "name": "ipython",
    "version": 3
   },
   "file_extension": ".py",
   "mimetype": "text/x-python",
   "name": "python",
   "nbconvert_exporter": "python",
   "pygments_lexer": "ipython3",
   "version": "3.10.6"
  }
 },
 "nbformat": 4,
 "nbformat_minor": 5
}
